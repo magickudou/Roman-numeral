{
 "cells": [
  {
   "cell_type": "code",
   "execution_count": 25,
   "metadata": {},
   "outputs": [
    {
     "data": {
      "text/plain": [
       "tendigital (generic function with 1 method)"
      ]
     },
     "execution_count": 25,
     "metadata": {},
     "output_type": "execute_result"
    }
   ],
   "source": [
    "function tendigital(a)\n",
    "    x=a\n",
    "    s=\"\"\n",
    "     while x>999\n",
    "        s=s*\"M\"\n",
    "        x=x-1000\n",
    "    end\n",
    "    while x>899\n",
    "        s=s*\"CM\"\n",
    "        x=x-900\n",
    "    end\n",
    "    while x>499\n",
    "        s=s*\"D\"\n",
    "        x=x-500\n",
    "    end\n",
    "    while x>399\n",
    "        s=s*\"CD\"\n",
    "        x=x-400\n",
    "    end\n",
    "    while x>99\n",
    "        s=s*\"C\"\n",
    "        x=x-100\n",
    "    end\n",
    "    while x>89\n",
    "        s=s*\"XC\"\n",
    "        x=x-90\n",
    "    end\n",
    "    while x>49\n",
    "        s=s*\"L\"\n",
    "        x=x-50\n",
    "    end\n",
    "    while x>39\n",
    "        s=s*\"XL\"\n",
    "        x=x-40\n",
    "    end\n",
    "    while x>9\n",
    "       s=s*\"X\"\n",
    "        x=x-10\n",
    "    end\n",
    "    if x==9\n",
    "        s=s*\"IX\"\n",
    "        x=0\n",
    "    elseif x>5\n",
    "        s=s*\"V\"\n",
    "        x=x-5\n",
    "    end\n",
    "    if x==4\n",
    "        s=s*\"IV\"\n",
    "        x=0\n",
    "    else\n",
    "        while x>0\n",
    "            s=s*\"I\"\n",
    "            x-=1\n",
    "        end\n",
    "    end\n",
    "    return s\n",
    "end "
   ]
  },
  {
   "cell_type": "code",
   "execution_count": 22,
   "metadata": {},
   "outputs": [
    {
     "data": {
      "text/plain": [
       "\"CCXLIV\""
      ]
     },
     "execution_count": 22,
     "metadata": {},
     "output_type": "execute_result"
    }
   ],
   "source": [
    "tendigital(244)"
   ]
  },
  {
   "cell_type": "code",
   "execution_count": 26,
   "metadata": {},
   "outputs": [
    {
     "data": {
      "text/plain": [
       "\"MCMLIV\""
      ]
     },
     "execution_count": 26,
     "metadata": {},
     "output_type": "execute_result"
    }
   ],
   "source": [
    "tendigital(1954)"
   ]
  },
  {
   "cell_type": "code",
   "execution_count": 27,
   "metadata": {},
   "outputs": [
    {
     "data": {
      "text/plain": [
       "\"MMCDXXI\""
      ]
     },
     "execution_count": 27,
     "metadata": {},
     "output_type": "execute_result"
    }
   ],
   "source": [
    "tendigital(2421)"
   ]
  },
  {
   "cell_type": "code",
   "execution_count": null,
   "metadata": {},
   "outputs": [],
   "source": []
  }
 ],
 "metadata": {
  "kernelspec": {
   "display_name": "Julia 1.1.1",
   "language": "julia",
   "name": "julia-1.1"
  },
  "language_info": {
   "file_extension": ".jl",
   "mimetype": "application/julia",
   "name": "julia",
   "version": "1.1.1"
  }
 },
 "nbformat": 4,
 "nbformat_minor": 2
}
